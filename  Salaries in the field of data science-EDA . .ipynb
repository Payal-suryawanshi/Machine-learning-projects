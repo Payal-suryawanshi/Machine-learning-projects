{
 "cells": [
  {
   "cell_type": "code",
   "execution_count": 98,
   "id": "f30dba11",
   "metadata": {},
   "outputs": [],
   "source": [
    "import pandas as pd\n",
    "import matplotlib.pyplot as plt\n",
    "import seaborn as sns"
   ]
  },
  {
   "cell_type": "code",
   "execution_count": 99,
   "id": "79b06ab4",
   "metadata": {},
   "outputs": [
    {
     "data": {
      "text/html": [
       "<div>\n",
       "<style scoped>\n",
       "    .dataframe tbody tr th:only-of-type {\n",
       "        vertical-align: middle;\n",
       "    }\n",
       "\n",
       "    .dataframe tbody tr th {\n",
       "        vertical-align: top;\n",
       "    }\n",
       "\n",
       "    .dataframe thead th {\n",
       "        text-align: right;\n",
       "    }\n",
       "</style>\n",
       "<table border=\"1\" class=\"dataframe\">\n",
       "  <thead>\n",
       "    <tr style=\"text-align: right;\">\n",
       "      <th></th>\n",
       "      <th>work_year</th>\n",
       "      <th>experience_level</th>\n",
       "      <th>employment_type</th>\n",
       "      <th>job_title</th>\n",
       "      <th>salary</th>\n",
       "      <th>salary_currency</th>\n",
       "      <th>salary_in_usd</th>\n",
       "      <th>employee_residence</th>\n",
       "      <th>remote_ratio</th>\n",
       "      <th>company_location</th>\n",
       "      <th>company_size</th>\n",
       "    </tr>\n",
       "  </thead>\n",
       "  <tbody>\n",
       "    <tr>\n",
       "      <th>0</th>\n",
       "      <td>2023</td>\n",
       "      <td>SE</td>\n",
       "      <td>FT</td>\n",
       "      <td>Principal Data Scientist</td>\n",
       "      <td>80000</td>\n",
       "      <td>EUR</td>\n",
       "      <td>85847</td>\n",
       "      <td>ES</td>\n",
       "      <td>100</td>\n",
       "      <td>ES</td>\n",
       "      <td>L</td>\n",
       "    </tr>\n",
       "    <tr>\n",
       "      <th>1</th>\n",
       "      <td>2023</td>\n",
       "      <td>MI</td>\n",
       "      <td>CT</td>\n",
       "      <td>ML Engineer</td>\n",
       "      <td>30000</td>\n",
       "      <td>USD</td>\n",
       "      <td>30000</td>\n",
       "      <td>US</td>\n",
       "      <td>100</td>\n",
       "      <td>US</td>\n",
       "      <td>S</td>\n",
       "    </tr>\n",
       "    <tr>\n",
       "      <th>2</th>\n",
       "      <td>2023</td>\n",
       "      <td>MI</td>\n",
       "      <td>CT</td>\n",
       "      <td>ML Engineer</td>\n",
       "      <td>25500</td>\n",
       "      <td>USD</td>\n",
       "      <td>25500</td>\n",
       "      <td>US</td>\n",
       "      <td>100</td>\n",
       "      <td>US</td>\n",
       "      <td>S</td>\n",
       "    </tr>\n",
       "    <tr>\n",
       "      <th>3</th>\n",
       "      <td>2023</td>\n",
       "      <td>SE</td>\n",
       "      <td>FT</td>\n",
       "      <td>Data Scientist</td>\n",
       "      <td>175000</td>\n",
       "      <td>USD</td>\n",
       "      <td>175000</td>\n",
       "      <td>CA</td>\n",
       "      <td>100</td>\n",
       "      <td>CA</td>\n",
       "      <td>M</td>\n",
       "    </tr>\n",
       "    <tr>\n",
       "      <th>4</th>\n",
       "      <td>2023</td>\n",
       "      <td>SE</td>\n",
       "      <td>FT</td>\n",
       "      <td>Data Scientist</td>\n",
       "      <td>120000</td>\n",
       "      <td>USD</td>\n",
       "      <td>120000</td>\n",
       "      <td>CA</td>\n",
       "      <td>100</td>\n",
       "      <td>CA</td>\n",
       "      <td>M</td>\n",
       "    </tr>\n",
       "    <tr>\n",
       "      <th>...</th>\n",
       "      <td>...</td>\n",
       "      <td>...</td>\n",
       "      <td>...</td>\n",
       "      <td>...</td>\n",
       "      <td>...</td>\n",
       "      <td>...</td>\n",
       "      <td>...</td>\n",
       "      <td>...</td>\n",
       "      <td>...</td>\n",
       "      <td>...</td>\n",
       "      <td>...</td>\n",
       "    </tr>\n",
       "    <tr>\n",
       "      <th>3750</th>\n",
       "      <td>2020</td>\n",
       "      <td>SE</td>\n",
       "      <td>FT</td>\n",
       "      <td>Data Scientist</td>\n",
       "      <td>412000</td>\n",
       "      <td>USD</td>\n",
       "      <td>412000</td>\n",
       "      <td>US</td>\n",
       "      <td>100</td>\n",
       "      <td>US</td>\n",
       "      <td>L</td>\n",
       "    </tr>\n",
       "    <tr>\n",
       "      <th>3751</th>\n",
       "      <td>2021</td>\n",
       "      <td>MI</td>\n",
       "      <td>FT</td>\n",
       "      <td>Principal Data Scientist</td>\n",
       "      <td>151000</td>\n",
       "      <td>USD</td>\n",
       "      <td>151000</td>\n",
       "      <td>US</td>\n",
       "      <td>100</td>\n",
       "      <td>US</td>\n",
       "      <td>L</td>\n",
       "    </tr>\n",
       "    <tr>\n",
       "      <th>3752</th>\n",
       "      <td>2020</td>\n",
       "      <td>EN</td>\n",
       "      <td>FT</td>\n",
       "      <td>Data Scientist</td>\n",
       "      <td>105000</td>\n",
       "      <td>USD</td>\n",
       "      <td>105000</td>\n",
       "      <td>US</td>\n",
       "      <td>100</td>\n",
       "      <td>US</td>\n",
       "      <td>S</td>\n",
       "    </tr>\n",
       "    <tr>\n",
       "      <th>3753</th>\n",
       "      <td>2020</td>\n",
       "      <td>EN</td>\n",
       "      <td>CT</td>\n",
       "      <td>Business Data Analyst</td>\n",
       "      <td>100000</td>\n",
       "      <td>USD</td>\n",
       "      <td>100000</td>\n",
       "      <td>US</td>\n",
       "      <td>100</td>\n",
       "      <td>US</td>\n",
       "      <td>L</td>\n",
       "    </tr>\n",
       "    <tr>\n",
       "      <th>3754</th>\n",
       "      <td>2021</td>\n",
       "      <td>SE</td>\n",
       "      <td>FT</td>\n",
       "      <td>Data Science Manager</td>\n",
       "      <td>7000000</td>\n",
       "      <td>INR</td>\n",
       "      <td>94665</td>\n",
       "      <td>IN</td>\n",
       "      <td>50</td>\n",
       "      <td>IN</td>\n",
       "      <td>L</td>\n",
       "    </tr>\n",
       "  </tbody>\n",
       "</table>\n",
       "<p>3755 rows × 11 columns</p>\n",
       "</div>"
      ],
      "text/plain": [
       "      work_year experience_level employment_type                 job_title  \\\n",
       "0          2023               SE              FT  Principal Data Scientist   \n",
       "1          2023               MI              CT               ML Engineer   \n",
       "2          2023               MI              CT               ML Engineer   \n",
       "3          2023               SE              FT            Data Scientist   \n",
       "4          2023               SE              FT            Data Scientist   \n",
       "...         ...              ...             ...                       ...   \n",
       "3750       2020               SE              FT            Data Scientist   \n",
       "3751       2021               MI              FT  Principal Data Scientist   \n",
       "3752       2020               EN              FT            Data Scientist   \n",
       "3753       2020               EN              CT     Business Data Analyst   \n",
       "3754       2021               SE              FT      Data Science Manager   \n",
       "\n",
       "       salary salary_currency  salary_in_usd employee_residence  remote_ratio  \\\n",
       "0       80000             EUR          85847                 ES           100   \n",
       "1       30000             USD          30000                 US           100   \n",
       "2       25500             USD          25500                 US           100   \n",
       "3      175000             USD         175000                 CA           100   \n",
       "4      120000             USD         120000                 CA           100   \n",
       "...       ...             ...            ...                ...           ...   \n",
       "3750   412000             USD         412000                 US           100   \n",
       "3751   151000             USD         151000                 US           100   \n",
       "3752   105000             USD         105000                 US           100   \n",
       "3753   100000             USD         100000                 US           100   \n",
       "3754  7000000             INR          94665                 IN            50   \n",
       "\n",
       "     company_location company_size  \n",
       "0                  ES            L  \n",
       "1                  US            S  \n",
       "2                  US            S  \n",
       "3                  CA            M  \n",
       "4                  CA            M  \n",
       "...               ...          ...  \n",
       "3750               US            L  \n",
       "3751               US            L  \n",
       "3752               US            S  \n",
       "3753               US            L  \n",
       "3754               IN            L  \n",
       "\n",
       "[3755 rows x 11 columns]"
      ]
     },
     "execution_count": 99,
     "metadata": {},
     "output_type": "execute_result"
    }
   ],
   "source": [
    "df= pd.read_csv('ds_salaries.csv')\n",
    "df"
   ]
  },
  {
   "cell_type": "markdown",
   "id": "1451e7c2",
   "metadata": {},
   "source": [
    "# What is this dataset talking about (Problem Statement)?"
   ]
  },
  {
   "cell_type": "code",
   "execution_count": 100,
   "id": "03d5d98a",
   "metadata": {},
   "outputs": [],
   "source": [
    "##The dataset contains information about salaries in the data science field. \n",
    "##It includes details such as the work year, experience level, employment type, job title, salary, salary currency, salary in USD, \n",
    "##employee residence, remote ratio, company location, and company size."
   ]
  },
  {
   "cell_type": "markdown",
   "id": "9abd1075",
   "metadata": {},
   "source": [
    "# Which feature is the target variable?"
   ]
  },
  {
   "cell_type": "code",
   "execution_count": 101,
   "id": "3653437f",
   "metadata": {},
   "outputs": [],
   "source": [
    "##The target variable appears to be salary_in_usd, as it is a common practice to predict salaries in data science roles."
   ]
  },
  {
   "cell_type": "markdown",
   "id": "f735c56b",
   "metadata": {},
   "source": [
    "# Why is this business interested in this target variable?"
   ]
  },
  {
   "cell_type": "code",
   "execution_count": 102,
   "id": "daca46fe",
   "metadata": {},
   "outputs": [],
   "source": [
    "##Businesses are interested in predicting the salary_in_usd to budget for hiring, to ensure competitive compensation packages, \\\n",
    "##and to understand salary trends in the data science field."
   ]
  },
  {
   "cell_type": "markdown",
   "id": "8064d252",
   "metadata": {},
   "source": [
    "# Why am I predicting this y label (target variable)?\n"
   ]
  },
  {
   "cell_type": "code",
   "execution_count": 103,
   "id": "347679a6",
   "metadata": {},
   "outputs": [],
   "source": [
    "##Predicting the salary_in_usd can help in making informed decisions for recruitment, retaining talent, \n",
    "#and analyzing the market rate for various data science roles."
   ]
  },
  {
   "cell_type": "markdown",
   "id": "1d7b8acd",
   "metadata": {},
   "source": [
    "# DESCRIPTIVE STATISTICS"
   ]
  },
  {
   "cell_type": "code",
   "execution_count": 104,
   "id": "ad64ce5b",
   "metadata": {},
   "outputs": [
    {
     "data": {
      "text/plain": [
       "(3755, 11)"
      ]
     },
     "execution_count": 104,
     "metadata": {},
     "output_type": "execute_result"
    }
   ],
   "source": [
    "df.shape"
   ]
  },
  {
   "cell_type": "code",
   "execution_count": 105,
   "id": "d725cd58",
   "metadata": {
    "scrolled": true
   },
   "outputs": [
    {
     "data": {
      "text/plain": [
       "work_year              int64\n",
       "experience_level      object\n",
       "employment_type       object\n",
       "job_title             object\n",
       "salary                 int64\n",
       "salary_currency       object\n",
       "salary_in_usd          int64\n",
       "employee_residence    object\n",
       "remote_ratio           int64\n",
       "company_location      object\n",
       "company_size          object\n",
       "dtype: object"
      ]
     },
     "execution_count": 105,
     "metadata": {},
     "output_type": "execute_result"
    }
   ],
   "source": [
    "df.dtypes"
   ]
  },
  {
   "cell_type": "code",
   "execution_count": 106,
   "id": "9fa364af",
   "metadata": {},
   "outputs": [
    {
     "data": {
      "text/html": [
       "<div>\n",
       "<style scoped>\n",
       "    .dataframe tbody tr th:only-of-type {\n",
       "        vertical-align: middle;\n",
       "    }\n",
       "\n",
       "    .dataframe tbody tr th {\n",
       "        vertical-align: top;\n",
       "    }\n",
       "\n",
       "    .dataframe thead th {\n",
       "        text-align: right;\n",
       "    }\n",
       "</style>\n",
       "<table border=\"1\" class=\"dataframe\">\n",
       "  <thead>\n",
       "    <tr style=\"text-align: right;\">\n",
       "      <th></th>\n",
       "      <th>work_year</th>\n",
       "      <th>experience_level</th>\n",
       "      <th>employment_type</th>\n",
       "      <th>job_title</th>\n",
       "      <th>salary</th>\n",
       "      <th>salary_currency</th>\n",
       "      <th>salary_in_usd</th>\n",
       "      <th>employee_residence</th>\n",
       "      <th>remote_ratio</th>\n",
       "      <th>company_location</th>\n",
       "      <th>company_size</th>\n",
       "    </tr>\n",
       "  </thead>\n",
       "  <tbody>\n",
       "    <tr>\n",
       "      <th>0</th>\n",
       "      <td>2023</td>\n",
       "      <td>SE</td>\n",
       "      <td>FT</td>\n",
       "      <td>Principal Data Scientist</td>\n",
       "      <td>80000</td>\n",
       "      <td>EUR</td>\n",
       "      <td>85847</td>\n",
       "      <td>ES</td>\n",
       "      <td>100</td>\n",
       "      <td>ES</td>\n",
       "      <td>L</td>\n",
       "    </tr>\n",
       "    <tr>\n",
       "      <th>1</th>\n",
       "      <td>2023</td>\n",
       "      <td>MI</td>\n",
       "      <td>CT</td>\n",
       "      <td>ML Engineer</td>\n",
       "      <td>30000</td>\n",
       "      <td>USD</td>\n",
       "      <td>30000</td>\n",
       "      <td>US</td>\n",
       "      <td>100</td>\n",
       "      <td>US</td>\n",
       "      <td>S</td>\n",
       "    </tr>\n",
       "    <tr>\n",
       "      <th>2</th>\n",
       "      <td>2023</td>\n",
       "      <td>MI</td>\n",
       "      <td>CT</td>\n",
       "      <td>ML Engineer</td>\n",
       "      <td>25500</td>\n",
       "      <td>USD</td>\n",
       "      <td>25500</td>\n",
       "      <td>US</td>\n",
       "      <td>100</td>\n",
       "      <td>US</td>\n",
       "      <td>S</td>\n",
       "    </tr>\n",
       "    <tr>\n",
       "      <th>3</th>\n",
       "      <td>2023</td>\n",
       "      <td>SE</td>\n",
       "      <td>FT</td>\n",
       "      <td>Data Scientist</td>\n",
       "      <td>175000</td>\n",
       "      <td>USD</td>\n",
       "      <td>175000</td>\n",
       "      <td>CA</td>\n",
       "      <td>100</td>\n",
       "      <td>CA</td>\n",
       "      <td>M</td>\n",
       "    </tr>\n",
       "    <tr>\n",
       "      <th>4</th>\n",
       "      <td>2023</td>\n",
       "      <td>SE</td>\n",
       "      <td>FT</td>\n",
       "      <td>Data Scientist</td>\n",
       "      <td>120000</td>\n",
       "      <td>USD</td>\n",
       "      <td>120000</td>\n",
       "      <td>CA</td>\n",
       "      <td>100</td>\n",
       "      <td>CA</td>\n",
       "      <td>M</td>\n",
       "    </tr>\n",
       "  </tbody>\n",
       "</table>\n",
       "</div>"
      ],
      "text/plain": [
       "   work_year experience_level employment_type                 job_title  \\\n",
       "0       2023               SE              FT  Principal Data Scientist   \n",
       "1       2023               MI              CT               ML Engineer   \n",
       "2       2023               MI              CT               ML Engineer   \n",
       "3       2023               SE              FT            Data Scientist   \n",
       "4       2023               SE              FT            Data Scientist   \n",
       "\n",
       "   salary salary_currency  salary_in_usd employee_residence  remote_ratio  \\\n",
       "0   80000             EUR          85847                 ES           100   \n",
       "1   30000             USD          30000                 US           100   \n",
       "2   25500             USD          25500                 US           100   \n",
       "3  175000             USD         175000                 CA           100   \n",
       "4  120000             USD         120000                 CA           100   \n",
       "\n",
       "  company_location company_size  \n",
       "0               ES            L  \n",
       "1               US            S  \n",
       "2               US            S  \n",
       "3               CA            M  \n",
       "4               CA            M  "
      ]
     },
     "execution_count": 106,
     "metadata": {},
     "output_type": "execute_result"
    }
   ],
   "source": [
    "df.head()"
   ]
  },
  {
   "cell_type": "code",
   "execution_count": 107,
   "id": "c4e64f4f",
   "metadata": {},
   "outputs": [
    {
     "data": {
      "text/html": [
       "<div>\n",
       "<style scoped>\n",
       "    .dataframe tbody tr th:only-of-type {\n",
       "        vertical-align: middle;\n",
       "    }\n",
       "\n",
       "    .dataframe tbody tr th {\n",
       "        vertical-align: top;\n",
       "    }\n",
       "\n",
       "    .dataframe thead th {\n",
       "        text-align: right;\n",
       "    }\n",
       "</style>\n",
       "<table border=\"1\" class=\"dataframe\">\n",
       "  <thead>\n",
       "    <tr style=\"text-align: right;\">\n",
       "      <th></th>\n",
       "      <th>work_year</th>\n",
       "      <th>experience_level</th>\n",
       "      <th>employment_type</th>\n",
       "      <th>job_title</th>\n",
       "      <th>salary</th>\n",
       "      <th>salary_currency</th>\n",
       "      <th>salary_in_usd</th>\n",
       "      <th>employee_residence</th>\n",
       "      <th>remote_ratio</th>\n",
       "      <th>company_location</th>\n",
       "      <th>company_size</th>\n",
       "    </tr>\n",
       "  </thead>\n",
       "  <tbody>\n",
       "    <tr>\n",
       "      <th>3750</th>\n",
       "      <td>2020</td>\n",
       "      <td>SE</td>\n",
       "      <td>FT</td>\n",
       "      <td>Data Scientist</td>\n",
       "      <td>412000</td>\n",
       "      <td>USD</td>\n",
       "      <td>412000</td>\n",
       "      <td>US</td>\n",
       "      <td>100</td>\n",
       "      <td>US</td>\n",
       "      <td>L</td>\n",
       "    </tr>\n",
       "    <tr>\n",
       "      <th>3751</th>\n",
       "      <td>2021</td>\n",
       "      <td>MI</td>\n",
       "      <td>FT</td>\n",
       "      <td>Principal Data Scientist</td>\n",
       "      <td>151000</td>\n",
       "      <td>USD</td>\n",
       "      <td>151000</td>\n",
       "      <td>US</td>\n",
       "      <td>100</td>\n",
       "      <td>US</td>\n",
       "      <td>L</td>\n",
       "    </tr>\n",
       "    <tr>\n",
       "      <th>3752</th>\n",
       "      <td>2020</td>\n",
       "      <td>EN</td>\n",
       "      <td>FT</td>\n",
       "      <td>Data Scientist</td>\n",
       "      <td>105000</td>\n",
       "      <td>USD</td>\n",
       "      <td>105000</td>\n",
       "      <td>US</td>\n",
       "      <td>100</td>\n",
       "      <td>US</td>\n",
       "      <td>S</td>\n",
       "    </tr>\n",
       "    <tr>\n",
       "      <th>3753</th>\n",
       "      <td>2020</td>\n",
       "      <td>EN</td>\n",
       "      <td>CT</td>\n",
       "      <td>Business Data Analyst</td>\n",
       "      <td>100000</td>\n",
       "      <td>USD</td>\n",
       "      <td>100000</td>\n",
       "      <td>US</td>\n",
       "      <td>100</td>\n",
       "      <td>US</td>\n",
       "      <td>L</td>\n",
       "    </tr>\n",
       "    <tr>\n",
       "      <th>3754</th>\n",
       "      <td>2021</td>\n",
       "      <td>SE</td>\n",
       "      <td>FT</td>\n",
       "      <td>Data Science Manager</td>\n",
       "      <td>7000000</td>\n",
       "      <td>INR</td>\n",
       "      <td>94665</td>\n",
       "      <td>IN</td>\n",
       "      <td>50</td>\n",
       "      <td>IN</td>\n",
       "      <td>L</td>\n",
       "    </tr>\n",
       "  </tbody>\n",
       "</table>\n",
       "</div>"
      ],
      "text/plain": [
       "      work_year experience_level employment_type                 job_title  \\\n",
       "3750       2020               SE              FT            Data Scientist   \n",
       "3751       2021               MI              FT  Principal Data Scientist   \n",
       "3752       2020               EN              FT            Data Scientist   \n",
       "3753       2020               EN              CT     Business Data Analyst   \n",
       "3754       2021               SE              FT      Data Science Manager   \n",
       "\n",
       "       salary salary_currency  salary_in_usd employee_residence  remote_ratio  \\\n",
       "3750   412000             USD         412000                 US           100   \n",
       "3751   151000             USD         151000                 US           100   \n",
       "3752   105000             USD         105000                 US           100   \n",
       "3753   100000             USD         100000                 US           100   \n",
       "3754  7000000             INR          94665                 IN            50   \n",
       "\n",
       "     company_location company_size  \n",
       "3750               US            L  \n",
       "3751               US            L  \n",
       "3752               US            S  \n",
       "3753               US            L  \n",
       "3754               IN            L  "
      ]
     },
     "execution_count": 107,
     "metadata": {},
     "output_type": "execute_result"
    }
   ],
   "source": [
    "df.tail()"
   ]
  },
  {
   "cell_type": "markdown",
   "id": "2b07b30b",
   "metadata": {},
   "source": [
    "# Measure of central tendancy"
   ]
  },
  {
   "cell_type": "code",
   "execution_count": 108,
   "id": "7c83a208",
   "metadata": {},
   "outputs": [
    {
     "data": {
      "text/html": [
       "<div>\n",
       "<style scoped>\n",
       "    .dataframe tbody tr th:only-of-type {\n",
       "        vertical-align: middle;\n",
       "    }\n",
       "\n",
       "    .dataframe tbody tr th {\n",
       "        vertical-align: top;\n",
       "    }\n",
       "\n",
       "    .dataframe thead th {\n",
       "        text-align: right;\n",
       "    }\n",
       "</style>\n",
       "<table border=\"1\" class=\"dataframe\">\n",
       "  <thead>\n",
       "    <tr style=\"text-align: right;\">\n",
       "      <th></th>\n",
       "      <th>work_year</th>\n",
       "      <th>salary</th>\n",
       "      <th>salary_in_usd</th>\n",
       "      <th>remote_ratio</th>\n",
       "    </tr>\n",
       "  </thead>\n",
       "  <tbody>\n",
       "    <tr>\n",
       "      <th>count</th>\n",
       "      <td>3755.000000</td>\n",
       "      <td>3.755000e+03</td>\n",
       "      <td>3755.000000</td>\n",
       "      <td>3755.000000</td>\n",
       "    </tr>\n",
       "    <tr>\n",
       "      <th>mean</th>\n",
       "      <td>2022.373635</td>\n",
       "      <td>1.906956e+05</td>\n",
       "      <td>137570.389880</td>\n",
       "      <td>46.271638</td>\n",
       "    </tr>\n",
       "    <tr>\n",
       "      <th>std</th>\n",
       "      <td>0.691448</td>\n",
       "      <td>6.716765e+05</td>\n",
       "      <td>63055.625278</td>\n",
       "      <td>48.589050</td>\n",
       "    </tr>\n",
       "    <tr>\n",
       "      <th>min</th>\n",
       "      <td>2020.000000</td>\n",
       "      <td>6.000000e+03</td>\n",
       "      <td>5132.000000</td>\n",
       "      <td>0.000000</td>\n",
       "    </tr>\n",
       "    <tr>\n",
       "      <th>25%</th>\n",
       "      <td>2022.000000</td>\n",
       "      <td>1.000000e+05</td>\n",
       "      <td>95000.000000</td>\n",
       "      <td>0.000000</td>\n",
       "    </tr>\n",
       "    <tr>\n",
       "      <th>50%</th>\n",
       "      <td>2022.000000</td>\n",
       "      <td>1.380000e+05</td>\n",
       "      <td>135000.000000</td>\n",
       "      <td>0.000000</td>\n",
       "    </tr>\n",
       "    <tr>\n",
       "      <th>75%</th>\n",
       "      <td>2023.000000</td>\n",
       "      <td>1.800000e+05</td>\n",
       "      <td>175000.000000</td>\n",
       "      <td>100.000000</td>\n",
       "    </tr>\n",
       "    <tr>\n",
       "      <th>max</th>\n",
       "      <td>2023.000000</td>\n",
       "      <td>3.040000e+07</td>\n",
       "      <td>450000.000000</td>\n",
       "      <td>100.000000</td>\n",
       "    </tr>\n",
       "  </tbody>\n",
       "</table>\n",
       "</div>"
      ],
      "text/plain": [
       "         work_year        salary  salary_in_usd  remote_ratio\n",
       "count  3755.000000  3.755000e+03    3755.000000   3755.000000\n",
       "mean   2022.373635  1.906956e+05  137570.389880     46.271638\n",
       "std       0.691448  6.716765e+05   63055.625278     48.589050\n",
       "min    2020.000000  6.000000e+03    5132.000000      0.000000\n",
       "25%    2022.000000  1.000000e+05   95000.000000      0.000000\n",
       "50%    2022.000000  1.380000e+05  135000.000000      0.000000\n",
       "75%    2023.000000  1.800000e+05  175000.000000    100.000000\n",
       "max    2023.000000  3.040000e+07  450000.000000    100.000000"
      ]
     },
     "execution_count": 108,
     "metadata": {},
     "output_type": "execute_result"
    }
   ],
   "source": [
    "df.describe(include='number')\n",
    "#measure of dispersion(max,min)\n",
    "# max in salary is 450000 and minimum is 5132, 50% of the data lies araound 135000 values"
   ]
  },
  {
   "cell_type": "markdown",
   "id": "161fc994",
   "metadata": {},
   "source": [
    "# Measure of dispersion"
   ]
  },
  {
   "cell_type": "code",
   "execution_count": 109,
   "id": "d42a2bad",
   "metadata": {},
   "outputs": [
    {
     "name": "stdout",
     "output_type": "stream",
     "text": [
      "444868\n"
     ]
    }
   ],
   "source": [
    "#calculation of range of y label\n",
    "range=df.salary_in_usd.max()-df.salary_in_usd.min()\n",
    "print(range) #A larger range indicates a wider spread of values so\n",
    "#when we say that a larger range indicates a wider spread of values, we're highlighting that the dataset contains values \n",
    "#that are more spread out across a broader range, \n",
    "#indicating greater variability or dispersion in the data."
   ]
  },
  {
   "cell_type": "code",
   "execution_count": 110,
   "id": "a746cb60",
   "metadata": {},
   "outputs": [],
   "source": [
    "#we can also calculate mean and std dv by this method"
   ]
  },
  {
   "cell_type": "code",
   "execution_count": 111,
   "id": "30c1cf8d",
   "metadata": {},
   "outputs": [
    {
     "name": "stdout",
     "output_type": "stream",
     "text": [
      "standar_devition: 63055.625278224084\n",
      "mean: 137570.38988015978\n"
     ]
    }
   ],
   "source": [
    "standar_devition=df.salary_in_usd.std() #finding std dev on target column\n",
    "print(\"standar_devition:\",standar_devition)\n",
    "mean= df.salary_in_usd.mean()\n",
    "print(\"mean:\",mean)\n",
    "#This is because the standard deviation provides a measure of the variability or \n",
    "#dispersion of the values of the target variable around the mean."
   ]
  },
  {
   "cell_type": "code",
   "execution_count": null,
   "id": "3481c274",
   "metadata": {},
   "outputs": [],
   "source": []
  },
  {
   "cell_type": "code",
   "execution_count": 112,
   "id": "74659226",
   "metadata": {},
   "outputs": [
    {
     "data": {
      "image/png": "[encoded data removed]",
      "text/plain": [
       "<Figure size 576x432 with 1 Axes>"
      ]
     },
     "metadata": {
      "needs_background": "light"
     },
     "output_type": "display_data"
    }
   ],
   "source": [
    "import matplotlib.pyplot as plt\n",
    "\n",
    "# Plotting the data\n",
    "plt.figure(figsize=(8, 6))\n",
    "\n",
    "# Plot a horizontal line for the mean\n",
    "plt.axvline(x=mean, color='r', linestyle='--', label='Mean Salary')\n",
    "\n",
    "# Plot a shaded region for the standard deviation\n",
    "plt.axvspan(mean - standar_devition, mean + standar_devition, alpha=0.3, color='skyblue', label='Standard Deviation')\n",
    "\n",
    "# Plot histogram of salary_in_usd\n",
    "plt.hist(df['salary_in_usd'], bins=30, color='yellow', edgecolor='black', label='Salary Distribution')\n",
    "\n",
    "# Add labels and legend\n",
    "plt.xlabel('Salary (USD)')\n",
    "plt.ylabel('Frequency')\n",
    "plt.title('Distribution of Salary with Mean and Standard Deviation')\n",
    "plt.legend()\n",
    "\n",
    "# Show plot\n",
    "plt.grid(True)\n",
    "plt.show()\n"
   ]
  },
  {
   "cell_type": "code",
   "execution_count": null,
   "id": "35a416fe",
   "metadata": {},
   "outputs": [],
   "source": []
  },
  {
   "cell_type": "code",
   "execution_count": 113,
   "id": "a0ba54fc",
   "metadata": {},
   "outputs": [
    {
     "data": {
      "text/html": [
       "<div>\n",
       "<style scoped>\n",
       "    .dataframe tbody tr th:only-of-type {\n",
       "        vertical-align: middle;\n",
       "    }\n",
       "\n",
       "    .dataframe tbody tr th {\n",
       "        vertical-align: top;\n",
       "    }\n",
       "\n",
       "    .dataframe thead th {\n",
       "        text-align: right;\n",
       "    }\n",
       "</style>\n",
       "<table border=\"1\" class=\"dataframe\">\n",
       "  <thead>\n",
       "    <tr style=\"text-align: right;\">\n",
       "      <th></th>\n",
       "      <th>experience_level</th>\n",
       "      <th>employment_type</th>\n",
       "      <th>job_title</th>\n",
       "      <th>salary_currency</th>\n",
       "      <th>employee_residence</th>\n",
       "      <th>company_location</th>\n",
       "      <th>company_size</th>\n",
       "    </tr>\n",
       "  </thead>\n",
       "  <tbody>\n",
       "    <tr>\n",
       "      <th>count</th>\n",
       "      <td>3755</td>\n",
       "      <td>3755</td>\n",
       "      <td>3755</td>\n",
       "      <td>3755</td>\n",
       "      <td>3755</td>\n",
       "      <td>3755</td>\n",
       "      <td>3755</td>\n",
       "    </tr>\n",
       "    <tr>\n",
       "      <th>unique</th>\n",
       "      <td>4</td>\n",
       "      <td>4</td>\n",
       "      <td>93</td>\n",
       "      <td>20</td>\n",
       "      <td>78</td>\n",
       "      <td>72</td>\n",
       "      <td>3</td>\n",
       "    </tr>\n",
       "    <tr>\n",
       "      <th>top</th>\n",
       "      <td>SE</td>\n",
       "      <td>FT</td>\n",
       "      <td>Data Engineer</td>\n",
       "      <td>USD</td>\n",
       "      <td>US</td>\n",
       "      <td>US</td>\n",
       "      <td>M</td>\n",
       "    </tr>\n",
       "    <tr>\n",
       "      <th>freq</th>\n",
       "      <td>2516</td>\n",
       "      <td>3718</td>\n",
       "      <td>1040</td>\n",
       "      <td>3224</td>\n",
       "      <td>3004</td>\n",
       "      <td>3040</td>\n",
       "      <td>3153</td>\n",
       "    </tr>\n",
       "  </tbody>\n",
       "</table>\n",
       "</div>"
      ],
      "text/plain": [
       "       experience_level employment_type      job_title salary_currency  \\\n",
       "count              3755            3755           3755            3755   \n",
       "unique                4               4             93              20   \n",
       "top                  SE              FT  Data Engineer             USD   \n",
       "freq               2516            3718           1040            3224   \n",
       "\n",
       "       employee_residence company_location company_size  \n",
       "count                3755             3755         3755  \n",
       "unique                 78               72            3  \n",
       "top                    US               US            M  \n",
       "freq                 3004             3040         3153  "
      ]
     },
     "execution_count": 113,
     "metadata": {},
     "output_type": "execute_result"
    }
   ],
   "source": [
    "df.describe(include='object')\n",
    "#The most frequent company location is also \"US\", occurring 3040 times.\n",
    "#The most frequent job title is \"Data Engineer,\" occurring 1040 times."
   ]
  },
  {
   "cell_type": "code",
   "execution_count": 114,
   "id": "b13eb1b0",
   "metadata": {},
   "outputs": [],
   "source": [
    "# we use value_counts only for categorical data"
   ]
  },
  {
   "cell_type": "code",
   "execution_count": 115,
   "id": "2b4584f2",
   "metadata": {},
   "outputs": [
    {
     "data": {
      "text/plain": [
       "SE    2516\n",
       "MI     805\n",
       "EN     320\n",
       "EX     114\n",
       "Name: experience_level, dtype: int64"
      ]
     },
     "execution_count": 115,
     "metadata": {},
     "output_type": "execute_result"
    }
   ],
   "source": [
    "df.experience_level.value_counts()# ordinal data as it has some level of \n",
    "#ranking se-senior, mi-mid level,en-entry level,ex-expert"
   ]
  },
  {
   "cell_type": "code",
   "execution_count": 116,
   "id": "bd9b611a",
   "metadata": {},
   "outputs": [
    {
     "data": {
      "text/plain": [
       "FT    3718\n",
       "PT      17\n",
       "CT      10\n",
       "FL      10\n",
       "Name: employment_type, dtype: int64"
      ]
     },
     "execution_count": 116,
     "metadata": {},
     "output_type": "execute_result"
    }
   ],
   "source": [
    "df.employment_type.value_counts()#nominal data"
   ]
  },
  {
   "cell_type": "code",
   "execution_count": 117,
   "id": "555a3ad1",
   "metadata": {},
   "outputs": [
    {
     "data": {
      "text/plain": [
       "Data Engineer                          1040\n",
       "Data Scientist                          840\n",
       "Data Analyst                            612\n",
       "Machine Learning Engineer               289\n",
       "Analytics Engineer                      103\n",
       "                                       ... \n",
       "Principal Machine Learning Engineer       1\n",
       "Azure Data Engineer                       1\n",
       "Manager Data Management                   1\n",
       "Marketing Data Engineer                   1\n",
       "Finance Data Analyst                      1\n",
       "Name: job_title, Length: 93, dtype: int64"
      ]
     },
     "execution_count": 117,
     "metadata": {},
     "output_type": "execute_result"
    }
   ],
   "source": [
    "df.job_title.value_counts()#nominal data"
   ]
  },
  {
   "cell_type": "code",
   "execution_count": 118,
   "id": "f4d27ced",
   "metadata": {},
   "outputs": [
    {
     "data": {
      "text/plain": [
       "USD    3224\n",
       "EUR     236\n",
       "GBP     161\n",
       "INR      60\n",
       "CAD      25\n",
       "AUD       9\n",
       "SGD       6\n",
       "BRL       6\n",
       "PLN       5\n",
       "CHF       4\n",
       "HUF       3\n",
       "DKK       3\n",
       "JPY       3\n",
       "TRY       3\n",
       "THB       2\n",
       "ILS       1\n",
       "HKD       1\n",
       "CZK       1\n",
       "MXN       1\n",
       "CLP       1\n",
       "Name: salary_currency, dtype: int64"
      ]
     },
     "execution_count": 118,
     "metadata": {},
     "output_type": "execute_result"
    }
   ],
   "source": [
    "df.salary_currency.value_counts()#This feature does not seem relevant to target column and the data is nominal"
   ]
  },
  {
   "cell_type": "code",
   "execution_count": 119,
   "id": "9aced493",
   "metadata": {},
   "outputs": [
    {
     "data": {
      "text/plain": [
       "US    3004\n",
       "GB     167\n",
       "CA      85\n",
       "ES      80\n",
       "IN      71\n",
       "      ... \n",
       "BA       1\n",
       "AM       1\n",
       "CY       1\n",
       "KW       1\n",
       "MT       1\n",
       "Name: employee_residence, Length: 78, dtype: int64"
      ]
     },
     "execution_count": 119,
     "metadata": {},
     "output_type": "execute_result"
    }
   ],
   "source": [
    "df.employee_residence.value_counts()#nominal data"
   ]
  },
  {
   "cell_type": "code",
   "execution_count": 120,
   "id": "16fada1a",
   "metadata": {},
   "outputs": [
    {
     "data": {
      "text/plain": [
       "US    3040\n",
       "GB     172\n",
       "CA      87\n",
       "ES      77\n",
       "IN      58\n",
       "      ... \n",
       "MK       1\n",
       "BS       1\n",
       "IR       1\n",
       "CR       1\n",
       "MT       1\n",
       "Name: company_location, Length: 72, dtype: int64"
      ]
     },
     "execution_count": 120,
     "metadata": {},
     "output_type": "execute_result"
    }
   ],
   "source": [
    "df.company_location.value_counts()#nominal data"
   ]
  },
  {
   "cell_type": "code",
   "execution_count": 121,
   "id": "024ee5d7",
   "metadata": {},
   "outputs": [
    {
     "data": {
      "text/plain": [
       "M    3153\n",
       "L     454\n",
       "S     148\n",
       "Name: company_size, dtype: int64"
      ]
     },
     "execution_count": 121,
     "metadata": {},
     "output_type": "execute_result"
    }
   ],
   "source": [
    "df.company_size.value_counts()#ordinal data"
   ]
  },
  {
   "cell_type": "code",
   "execution_count": 122,
   "id": "66f92291",
   "metadata": {},
   "outputs": [
    {
     "data": {
      "text/plain": [
       "work_year                4\n",
       "experience_level         4\n",
       "employment_type          4\n",
       "job_title               93\n",
       "salary                 815\n",
       "salary_currency         20\n",
       "salary_in_usd         1035\n",
       "employee_residence      78\n",
       "remote_ratio             3\n",
       "company_location        72\n",
       "company_size             3\n",
       "dtype: int64"
      ]
     },
     "execution_count": 122,
     "metadata": {},
     "output_type": "execute_result"
    }
   ],
   "source": [
    "# Check for unique values in each column\n",
    "unique_values = df.nunique()\n",
    "unique_values"
   ]
  },
  {
   "cell_type": "code",
   "execution_count": 123,
   "id": "91180244",
   "metadata": {},
   "outputs": [],
   "source": [
    "#work_year This could be useful for analyzing trends over time.\n",
    "#experience_level: There are 4 unique values, representing different levels of experience. This can be important for understanding how salary varies with experience.\n",
    "#employment_type This can impact salary and job availability.\n",
    "#job_title This diversity can be useful for analyzing salary differences across different positions.\n",
    "#salary: There are 815 unique values, indicating a wide range of salaries. This variability is expected in salary data.\n",
    "#salary_currency This is important for standardizing salary data for comparison.\n",
    "#salary_in_usd This standardized measure is crucial for comparing salaries across different regions.\n",
    "#employee_residence This can be used to analyze geographical differences in salaries.\n",
    "#remote_ratio This can impact salary and job satisfaction.\n",
    "#company_location showing a wide range of company locations. This can be useful for understanding regional differences in salaries.\n",
    "#company_size This can influence salary levels and job opportunities."
   ]
  },
  {
   "cell_type": "code",
   "execution_count": 124,
   "id": "108384e0",
   "metadata": {},
   "outputs": [
    {
     "data": {
      "text/plain": [
       "1171"
      ]
     },
     "execution_count": 124,
     "metadata": {},
     "output_type": "execute_result"
    }
   ],
   "source": [
    "# Check for duplicates \n",
    "duplicates = df.duplicated().sum()\n",
    "duplicates\n",
    "\n",
    "#There are 1,171 duplicate rows in the dataset. This means that there are multiple entries with \n",
    "#identical information across all features.\n",
    "#The presence of duplicates can affect the analysis and modeling process,as it may lead to biased results or \n",
    "#overfitting in machine learning models. Therefore, it is important to address these duplicates."
   ]
  },
  {
   "cell_type": "code",
   "execution_count": 125,
   "id": "8f7193fc",
   "metadata": {},
   "outputs": [
    {
     "data": {
      "text/plain": [
       "work_year             0\n",
       "experience_level      0\n",
       "employment_type       0\n",
       "job_title             0\n",
       "salary                0\n",
       "salary_currency       0\n",
       "salary_in_usd         0\n",
       "employee_residence    0\n",
       "remote_ratio          0\n",
       "company_location      0\n",
       "company_size          0\n",
       "dtype: int64"
      ]
     },
     "execution_count": 125,
     "metadata": {},
     "output_type": "execute_result"
    }
   ],
   "source": [
    "df.isna().sum() #we can see that we have zero null values present in our data"
   ]
  },
  {
   "cell_type": "code",
   "execution_count": 126,
   "id": "fbf87724",
   "metadata": {},
   "outputs": [
    {
     "data": {
      "text/html": [
       "<div>\n",
       "<style scoped>\n",
       "    .dataframe tbody tr th:only-of-type {\n",
       "        vertical-align: middle;\n",
       "    }\n",
       "\n",
       "    .dataframe tbody tr th {\n",
       "        vertical-align: top;\n",
       "    }\n",
       "\n",
       "    .dataframe thead th {\n",
       "        text-align: right;\n",
       "    }\n",
       "</style>\n",
       "<table border=\"1\" class=\"dataframe\">\n",
       "  <thead>\n",
       "    <tr style=\"text-align: right;\">\n",
       "      <th></th>\n",
       "      <th>work_year</th>\n",
       "      <th>salary</th>\n",
       "      <th>salary_in_usd</th>\n",
       "      <th>remote_ratio</th>\n",
       "    </tr>\n",
       "  </thead>\n",
       "  <tbody>\n",
       "    <tr>\n",
       "      <th>0</th>\n",
       "      <td>2023</td>\n",
       "      <td>80000</td>\n",
       "      <td>85847</td>\n",
       "      <td>100</td>\n",
       "    </tr>\n",
       "    <tr>\n",
       "      <th>1</th>\n",
       "      <td>2023</td>\n",
       "      <td>30000</td>\n",
       "      <td>30000</td>\n",
       "      <td>100</td>\n",
       "    </tr>\n",
       "    <tr>\n",
       "      <th>2</th>\n",
       "      <td>2023</td>\n",
       "      <td>25500</td>\n",
       "      <td>25500</td>\n",
       "      <td>100</td>\n",
       "    </tr>\n",
       "    <tr>\n",
       "      <th>3</th>\n",
       "      <td>2023</td>\n",
       "      <td>175000</td>\n",
       "      <td>175000</td>\n",
       "      <td>100</td>\n",
       "    </tr>\n",
       "    <tr>\n",
       "      <th>4</th>\n",
       "      <td>2023</td>\n",
       "      <td>120000</td>\n",
       "      <td>120000</td>\n",
       "      <td>100</td>\n",
       "    </tr>\n",
       "    <tr>\n",
       "      <th>...</th>\n",
       "      <td>...</td>\n",
       "      <td>...</td>\n",
       "      <td>...</td>\n",
       "      <td>...</td>\n",
       "    </tr>\n",
       "    <tr>\n",
       "      <th>3750</th>\n",
       "      <td>2020</td>\n",
       "      <td>412000</td>\n",
       "      <td>412000</td>\n",
       "      <td>100</td>\n",
       "    </tr>\n",
       "    <tr>\n",
       "      <th>3751</th>\n",
       "      <td>2021</td>\n",
       "      <td>151000</td>\n",
       "      <td>151000</td>\n",
       "      <td>100</td>\n",
       "    </tr>\n",
       "    <tr>\n",
       "      <th>3752</th>\n",
       "      <td>2020</td>\n",
       "      <td>105000</td>\n",
       "      <td>105000</td>\n",
       "      <td>100</td>\n",
       "    </tr>\n",
       "    <tr>\n",
       "      <th>3753</th>\n",
       "      <td>2020</td>\n",
       "      <td>100000</td>\n",
       "      <td>100000</td>\n",
       "      <td>100</td>\n",
       "    </tr>\n",
       "    <tr>\n",
       "      <th>3754</th>\n",
       "      <td>2021</td>\n",
       "      <td>7000000</td>\n",
       "      <td>94665</td>\n",
       "      <td>50</td>\n",
       "    </tr>\n",
       "  </tbody>\n",
       "</table>\n",
       "<p>3755 rows × 4 columns</p>\n",
       "</div>"
      ],
      "text/plain": [
       "      work_year   salary  salary_in_usd  remote_ratio\n",
       "0          2023    80000          85847           100\n",
       "1          2023    30000          30000           100\n",
       "2          2023    25500          25500           100\n",
       "3          2023   175000         175000           100\n",
       "4          2023   120000         120000           100\n",
       "...         ...      ...            ...           ...\n",
       "3750       2020   412000         412000           100\n",
       "3751       2021   151000         151000           100\n",
       "3752       2020   105000         105000           100\n",
       "3753       2020   100000         100000           100\n",
       "3754       2021  7000000          94665            50\n",
       "\n",
       "[3755 rows x 4 columns]"
      ]
     },
     "execution_count": 126,
     "metadata": {},
     "output_type": "execute_result"
    }
   ],
   "source": [
    "df_num=df.select_dtypes(include='number')\n",
    "df_num"
   ]
  },
  {
   "cell_type": "code",
   "execution_count": 127,
   "id": "f13fdf3e",
   "metadata": {},
   "outputs": [
    {
     "name": "stdout",
     "output_type": "stream",
     "text": [
      "Interquartile Range (IQR) for each column:\n",
      "work_year            1.0\n",
      "salary           80000.0\n",
      "salary_in_usd    80000.0\n",
      "remote_ratio       100.0\n",
      "dtype: float64\n"
     ]
    }
   ],
   "source": [
    "iqr_values = df.quantile(0.75) - df.quantile(0.25)\n",
    "\n",
    "print(\"Interquartile Range (IQR) for each column:\")\n",
    "print(iqr_values)"
   ]
  },
  {
   "cell_type": "code",
   "execution_count": 128,
   "id": "8a9a724f",
   "metadata": {},
   "outputs": [
    {
     "name": "stdout",
     "output_type": "stream",
     "text": [
      "Range for each column:\n",
      "work_year               3\n",
      "salary           30394000\n",
      "salary_in_usd      444868\n",
      "remote_ratio          100\n",
      "dtype: int64\n"
     ]
    }
   ],
   "source": [
    "df_numeric=df.select_dtypes(include='number')\n",
    "column_ranges =df_numeric.max() - df_numeric.min()\n",
    "print(\"Range for each column:\")\n",
    "print(column_ranges)"
   ]
  },
  {
   "cell_type": "code",
   "execution_count": 129,
   "id": "00f3543f",
   "metadata": {},
   "outputs": [
    {
     "name": "stdout",
     "output_type": "stream",
     "text": [
      "Standard deviation for each column:\n",
      "work_year             0.691448\n",
      "salary           671676.500508\n",
      "salary_in_usd     63055.625278\n",
      "remote_ratio         48.589050\n",
      "dtype: float64\n"
     ]
    },
    {
     "name": "stderr",
     "output_type": "stream",
     "text": [
      "C:\\Users\\Payal Suryawanshi\\AppData\\Local\\Temp\\ipykernel_308\\329968617.py:2: FutureWarning: Dropping of nuisance columns in DataFrame reductions (with 'numeric_only=None') is deprecated; in a future version this will raise TypeError.  Select only valid columns before calling the reduction.\n",
      "  std_values = df.std()\n"
     ]
    }
   ],
   "source": [
    "# It will tell us how data is spreed from the center of tendancy\n",
    "std_values = df.std()\n",
    "print(\"Standard deviation for each column:\")\n",
    "print(std_values)"
   ]
  },
  {
   "cell_type": "code",
   "execution_count": 130,
   "id": "5e0246b4",
   "metadata": {},
   "outputs": [
    {
     "data": {
      "text/plain": [
       "work_year        -1.016374\n",
       "salary           28.937932\n",
       "salary_in_usd     0.536401\n",
       "remote_ratio      0.149454\n",
       "dtype: float64"
      ]
     },
     "execution_count": 130,
     "metadata": {},
     "output_type": "execute_result"
    }
   ],
   "source": [
    "df_num.skew()\n",
    "#work_year has negative skewness it indicates a left-skewed distribution, \n",
    "#there is no need of calculating skewness in column work year as it has only four values\n",
    "#salary has positive skewness it indicates a right-skewed distribution.\n",
    "#salary_in_usd,remote_ratio has 0 vallue -A skewness value of 0 indicates a perfectly symmetrical distribution   "
   ]
  },
  {
   "cell_type": "markdown",
   "id": "4b0061df",
   "metadata": {},
   "source": [
    "# DATA VISUALIZATION"
   ]
  },
  {
   "cell_type": "code",
   "execution_count": 131,
   "id": "6d0f3821",
   "metadata": {},
   "outputs": [
    {
     "data": {
      "text/plain": [
       "<AxesSubplot:ylabel='work_year'>"
      ]
     },
     "execution_count": 131,
     "metadata": {},
     "output_type": "execute_result"
    },
    {
     "data": {
      "image/png": "[encoded data removed]",
      "text/plain": [
       "<Figure size 864x576 with 1 Axes>"
      ]
     },
     "metadata": {},
     "output_type": "display_data"
    }
   ],
   "source": [
    "import matplotlib.pyplot as plt\n",
    "import seaborn as sns\n",
    "\n",
    "\n",
    "\n",
    "# Plotting histograms\n",
    "plt.figure(figsize=(12, 8))\n",
    "\n",
    "# Work Year\n",
    "plt.subplot(2, 2, 1)\n",
    "df['work_year'].value_counts().plot(kind='pie')\n",
    "\n"
   ]
  },
  {
   "cell_type": "code",
   "execution_count": 133,
   "id": "170832c0",
   "metadata": {},
   "outputs": [
    {
     "data": {
      "text/plain": [
       "Text(0, 0.5, 'Frequency')"
      ]
     },
     "execution_count": 133,
     "metadata": {},
     "output_type": "execute_result"
    },
    {
     "data": {
      "image/png": "[encoded data removed]",
      "text/plain": [
       "<Figure size 720x720 with 1 Axes>"
      ]
     },
     "metadata": {
      "needs_background": "light"
     },
     "output_type": "display_data"
    }
   ],
   "source": [
    "plt.figure(figsize=(10,10))\n",
    "sns.histplot(df['salary'], bins=30, kde=True, color='orange', edgecolor='black')\n",
    "plt.title(f'Salary Distribution (Skewness:[\"salary\"]:.2f)')\n",
    "plt.xlabel('Salary')\n",
    "plt.ylabel('Frequency')\n"
   ]
  },
  {
   "cell_type": "code",
   "execution_count": null,
   "id": "4b959007",
   "metadata": {},
   "outputs": [],
   "source": [
    "#Highly Right-Skewed Distribution, This means that there is a long tail on the right side of the distribution, \n",
    "#with a few extremely high salary values pulling the distribution towards the right.\n",
    "#Concentration of Lower Salaries: The majority of the data points appear to be clustered towards the lower end of the salary range.\n",
    "#Outliers -There seem to be several outliers on the right side of the distribution,representing individuals with exceptionally high salaries.\n",
    "#Mean vs. Median: Due to the skewness, the mean salary is likely to be higher than the median salary. This indicates that the average salary is influenced by the presence of high earners, \n",
    "#while the median provides a better representation of the typical salary in the dataset."
   ]
  },
  {
   "cell_type": "code",
   "execution_count": 134,
   "id": "e65f101c",
   "metadata": {},
   "outputs": [],
   "source": [
    "\n",
    "import pandas as pd\n",
    "import matplotlib.pyplot as plt\n"
   ]
  },
  {
   "cell_type": "markdown",
   "id": "aa6bda94",
   "metadata": {},
   "source": [
    "# Univariate Analysis"
   ]
  },
  {
   "cell_type": "code",
   "execution_count": 135,
   "id": "779a9740",
   "metadata": {},
   "outputs": [
    {
     "data": {
      "image/png": "[encoded data removed]",
      "text/plain": [
       "<Figure size 576x432 with 1 Axes>"
      ]
     },
     "metadata": {
      "needs_background": "light"
     },
     "output_type": "display_data"
    }
   ],
   "source": [
    "# Univariate analysis for numeric columns\n",
    "\n",
    "plt.figure(figsize=(8, 6))\n",
    "sns.histplot(df['salary'],bins=30, kde=True, color='yellow', edgecolor='black')\n",
    "plt.title(\"Univariate Analysis of salary\")\n",
    "plt.xlabel('salary')\n",
    "plt.ylabel('Frequency')\n",
    "plt.show()"
   ]
  },
  {
   "cell_type": "code",
   "execution_count": 136,
   "id": "f29dd34c",
   "metadata": {},
   "outputs": [
    {
     "data": {
      "image/png": "[encoded data removed]",
      "text/plain": [
       "<Figure size 576x432 with 1 Axes>"
      ]
     },
     "metadata": {
      "needs_background": "light"
     },
     "output_type": "display_data"
    }
   ],
   "source": [
    "# Univariate analysis for numeric columns\n",
    "\n",
    "plt.figure(figsize=(8, 6))\n",
    "sns.histplot(df['salary_in_usd'], kde=True, color='pink', edgecolor='black')\n",
    "plt.title(\"Univariate Analysis of salary_in_usd\")\n",
    "plt.xlabel('salary_in_usd')\n",
    "plt.ylabel('Frequency')\n",
    "plt.show()"
   ]
  },
  {
   "cell_type": "code",
   "execution_count": 137,
   "id": "8bfcf787",
   "metadata": {},
   "outputs": [
    {
     "data": {
      "text/plain": [
       "<AxesSubplot:ylabel='remote_ratio'>"
      ]
     },
     "execution_count": 137,
     "metadata": {},
     "output_type": "execute_result"
    },
    {
     "data": {
      "image/png": "[encoded data removed]",
      "text/plain": [
       "<Figure size 432x288 with 1 Axes>"
      ]
     },
     "metadata": {},
     "output_type": "display_data"
    }
   ],
   "source": [
    "df['remote_ratio'].value_counts().plot(kind='pie')"
   ]
  },
  {
   "cell_type": "code",
   "execution_count": 138,
   "id": "ab7ca740",
   "metadata": {},
   "outputs": [
    {
     "data": {
      "image/png": "[encoded data removed]",
      "text/plain": [
       "<Figure size 720x432 with 1 Axes>"
      ]
     },
     "metadata": {
      "needs_background": "light"
     },
     "output_type": "display_data"
    }
   ],
   "source": [
    " # Univariate analysis for categorical columns\n",
    "categorical_columns = ['experience_level', 'employment_type', 'company_size']\n",
    "plt.figure(figsize=(10, 6))\n",
    "df['experience_level'].value_counts().plot(kind='bar', color='green', edgecolor='black')\n",
    "plt.title(\"Univariate Analysis of experience_level\")\n",
    "plt.xlabel('experience_level')\n",
    "plt.ylabel('Frequency')\n",
    "plt.xticks(rotation=45, ha='right')\n",
    "plt.show()"
   ]
  },
  {
   "cell_type": "code",
   "execution_count": 139,
   "id": "10f05a42",
   "metadata": {},
   "outputs": [
    {
     "data": {
      "image/png": "[encoded data removed]",
      "text/plain": [
       "<Figure size 720x432 with 1 Axes>"
      ]
     },
     "metadata": {
      "needs_background": "light"
     },
     "output_type": "display_data"
    }
   ],
   "source": [
    "plt.figure(figsize=(10, 6))\n",
    "df['employment_type'].value_counts().plot(kind='bar', color='purple', edgecolor='black')\n",
    "plt.title(\"Univariate Analysis of employment_type'\")\n",
    "plt.xlabel('employment_type')\n",
    "plt.ylabel('Frequency')\n",
    "plt.xticks(rotation=45, ha='right')\n",
    "plt.show()"
   ]
  },
  {
   "cell_type": "code",
   "execution_count": 140,
   "id": "fc14bb7d",
   "metadata": {},
   "outputs": [
    {
     "data": {
      "image/png": "[encoded data removed]",
      "text/plain": [
       "<Figure size 720x432 with 1 Axes>"
      ]
     },
     "metadata": {
      "needs_background": "light"
     },
     "output_type": "display_data"
    }
   ],
   "source": [
    "plt.figure(figsize=(10, 6))\n",
    "df['company_size'].value_counts().plot(kind='bar', color='darkblue', edgecolor='black')\n",
    "plt.title(\"Univariate Analysis of company_size\")\n",
    "plt.xlabel('company_size')\n",
    "plt.ylabel('Frequency')\n",
    "plt.xticks(rotation=45, ha='right')\n",
    "plt.show()"
   ]
  },
  {
   "cell_type": "code",
   "execution_count": 141,
   "id": "2d7c5fb2",
   "metadata": {},
   "outputs": [
    {
     "data": {
      "image/png": "[encoded data removed]",
      "text/plain": [
       "<Figure size 576x360 with 1 Axes>"
      ]
     },
     "metadata": {
      "needs_background": "light"
     },
     "output_type": "display_data"
    }
   ],
   "source": [
    "#univariate box plot for salary in usd\n",
    "\n",
    "plt.figure(figsize=(8,5))\n",
    "sns.boxplot(x=df[\"salary_in_usd\"])\n",
    "plt.title(\"BOX PLOT OF SALARY IN USD\")\n",
    "plt.xlabel(\"salary_in_usd\")\n",
    "plt.show()"
   ]
  },
  {
   "cell_type": "markdown",
   "id": "eb5d1fba",
   "metadata": {},
   "source": [
    "# Bivariate Analysis"
   ]
  },
  {
   "cell_type": "code",
   "execution_count": 142,
   "id": "396075dd",
   "metadata": {},
   "outputs": [
    {
     "data": {
      "image/png": "[encoded data removed]",
      "text/plain": [
       "<Figure size 720x432 with 1 Axes>"
      ]
     },
     "metadata": {
      "needs_background": "light"
     },
     "output_type": "display_data"
    }
   ],
   "source": [
    "avg_salary_by_experience = df.groupby('experience_level')['salary_in_usd'].mean().reset_index()\n",
    "\n",
    "# Plotting the bar graph\n",
    "plt.figure(figsize=(10, 6))\n",
    "sns.barplot(data=avg_salary_by_experience, x='experience_level', y='salary_in_usd', ci=None)\n",
    "plt.title('Average Salary in USD by Experience Level')\n",
    "plt.xlabel('Experience Level')\n",
    "plt.ylabel('Average Salary in USD')\n",
    "plt.show()"
   ]
  },
  {
   "cell_type": "code",
   "execution_count": 143,
   "id": "0fe1e4a7",
   "metadata": {},
   "outputs": [
    {
     "data": {
      "image/png": "[encoded data removed]",
      "text/plain": [
       "<Figure size 360x360 with 6 Axes>"
      ]
     },
     "metadata": {
      "needs_background": "light"
     },
     "output_type": "display_data"
    }
   ],
   "source": [
    "sns.pairplot(df[['remote_ratio', 'salary_in_usd',]])\n",
    "plt.show()"
   ]
  },
  {
   "cell_type": "code",
   "execution_count": 144,
   "id": "0a4e3103",
   "metadata": {},
   "outputs": [
    {
     "data": {
      "image/png": "[encoded data removed]",
      "text/plain": [
       "<Figure size 720x432 with 1 Axes>"
      ]
     },
     "metadata": {
      "needs_background": "light"
     },
     "output_type": "display_data"
    }
   ],
   "source": [
    "# Bivariate analysis: Numeric vs. Categorical\n",
    "plt.figure(figsize=(10, 6))\n",
    "sns.boxplot(x='employment_type', y='salary', data=df)\n",
    "plt.title('Boxplot of Salary by Employment Type')\n",
    "plt.xlabel('Employment Type')\n",
    "plt.ylabel('Salary')\n",
    "plt.show()\n"
   ]
  },
  {
   "cell_type": "code",
   "execution_count": 145,
   "id": "137af423",
   "metadata": {},
   "outputs": [
    {
     "data": {
      "image/png": "[encoded data removed]",
      "text/plain": [
       "<Figure size 720x432 with 1 Axes>"
      ]
     },
     "metadata": {
      "needs_background": "light"
     },
     "output_type": "display_data"
    }
   ],
   "source": [
    "#Bivariate analysis: Categorical vs. Categorical\n",
    "plt.figure(figsize=(10, 6))\n",
    "sns.countplot(x='experience_level', hue='company_size', data=df)\n",
    "plt.title('Countplot of Experience Level by Company Size')\n",
    "plt.xlabel('Experience Level')\n",
    "plt.ylabel('Count')\n",
    "plt.show()"
   ]
  },
  {
   "cell_type": "markdown",
   "id": "caab2e73",
   "metadata": {},
   "source": [
    "# DATA PREPROCESSING"
   ]
  },
  {
   "cell_type": "code",
   "execution_count": 146,
   "id": "d18649e8",
   "metadata": {},
   "outputs": [],
   "source": [
    "df = df.drop_duplicates() #Removing dublicates "
   ]
  },
  {
   "cell_type": "code",
   "execution_count": 147,
   "id": "e472edec",
   "metadata": {},
   "outputs": [
    {
     "data": {
      "text/plain": [
       "<AxesSubplot:xlabel='salary_in_usd'>"
      ]
     },
     "execution_count": 147,
     "metadata": {},
     "output_type": "execute_result"
    },
    {
     "data": {
      "image/png": "[encoded data removed]",
      "text/plain": [
       "<Figure size 432x288 with 1 Axes>"
      ]
     },
     "metadata": {
      "needs_background": "light"
     },
     "output_type": "display_data"
    }
   ],
   "source": [
    "sns.boxplot(x=df[\"salary_in_usd\"])"
   ]
  },
  {
   "cell_type": "code",
   "execution_count": 148,
   "id": "ec4a3ce2",
   "metadata": {},
   "outputs": [],
   "source": [
    "# Observation: The box plot presents the distribution of salary in usd values in a compact manner. It indicates the median (line inside the box), interquartile range (box), \n",
    "#and presence of outliers (points outside the whiskers)."
   ]
  },
  {
   "cell_type": "code",
   "execution_count": 162,
   "id": "00f19258",
   "metadata": {},
   "outputs": [],
   "source": [
    "#outlier removal as we saw there was outliers\n",
    "Q1 = df['salary_in_usd'].quantile(0.25)\n",
    "Q3 = df['salary_in_usd'].quantile(0.75)\n",
    "IQR = Q3 - Q1\n",
    "df = df[~((df['salary_in_usd'] < (Q1 - 1.5 * IQR)) | (df['salary_in_usd'] > (Q3 + 1.5 * IQR)))]"
   ]
  },
  {
   "cell_type": "code",
   "execution_count": 150,
   "id": "67996b7d",
   "metadata": {},
   "outputs": [
    {
     "data": {
      "text/plain": [
       "<AxesSubplot:xlabel='salary_in_usd'>"
      ]
     },
     "execution_count": 150,
     "metadata": {},
     "output_type": "execute_result"
    },
    {
     "data": {
      "image/png": "[encoded data removed]",
      "text/plain": [
       "<Figure size 432x288 with 1 Axes>"
      ]
     },
     "metadata": {
      "needs_background": "light"
     },
     "output_type": "display_data"
    }
   ],
   "source": [
    "sns.boxplot(x=df[\"salary_in_usd\"])"
   ]
  },
  {
   "cell_type": "code",
   "execution_count": 151,
   "id": "54bf342f",
   "metadata": {},
   "outputs": [],
   "source": [
    "#no outlier is present outside the wisker"
   ]
  },
  {
   "cell_type": "code",
   "execution_count": 152,
   "id": "acc8a635",
   "metadata": {},
   "outputs": [
    {
     "data": {
      "text/html": [
       "<div>\n",
       "<style scoped>\n",
       "    .dataframe tbody tr th:only-of-type {\n",
       "        vertical-align: middle;\n",
       "    }\n",
       "\n",
       "    .dataframe tbody tr th {\n",
       "        vertical-align: top;\n",
       "    }\n",
       "\n",
       "    .dataframe thead th {\n",
       "        text-align: right;\n",
       "    }\n",
       "</style>\n",
       "<table border=\"1\" class=\"dataframe\">\n",
       "  <thead>\n",
       "    <tr style=\"text-align: right;\">\n",
       "      <th></th>\n",
       "      <th>work_year</th>\n",
       "      <th>employment_type</th>\n",
       "      <th>job_title</th>\n",
       "      <th>salary</th>\n",
       "      <th>salary_currency</th>\n",
       "      <th>salary_in_usd</th>\n",
       "      <th>employee_residence</th>\n",
       "      <th>remote_ratio</th>\n",
       "      <th>company_location</th>\n",
       "      <th>company_size</th>\n",
       "      <th>experience_level_encoded</th>\n",
       "    </tr>\n",
       "  </thead>\n",
       "  <tbody>\n",
       "    <tr>\n",
       "      <th>0</th>\n",
       "      <td>2023</td>\n",
       "      <td>FT</td>\n",
       "      <td>Principal Data Scientist</td>\n",
       "      <td>80000</td>\n",
       "      <td>EUR</td>\n",
       "      <td>85847</td>\n",
       "      <td>ES</td>\n",
       "      <td>100</td>\n",
       "      <td>ES</td>\n",
       "      <td>L</td>\n",
       "      <td>3</td>\n",
       "    </tr>\n",
       "    <tr>\n",
       "      <th>1</th>\n",
       "      <td>2023</td>\n",
       "      <td>CT</td>\n",
       "      <td>ML Engineer</td>\n",
       "      <td>30000</td>\n",
       "      <td>USD</td>\n",
       "      <td>30000</td>\n",
       "      <td>US</td>\n",
       "      <td>100</td>\n",
       "      <td>US</td>\n",
       "      <td>S</td>\n",
       "      <td>2</td>\n",
       "    </tr>\n",
       "    <tr>\n",
       "      <th>2</th>\n",
       "      <td>2023</td>\n",
       "      <td>CT</td>\n",
       "      <td>ML Engineer</td>\n",
       "      <td>25500</td>\n",
       "      <td>USD</td>\n",
       "      <td>25500</td>\n",
       "      <td>US</td>\n",
       "      <td>100</td>\n",
       "      <td>US</td>\n",
       "      <td>S</td>\n",
       "      <td>2</td>\n",
       "    </tr>\n",
       "    <tr>\n",
       "      <th>3</th>\n",
       "      <td>2023</td>\n",
       "      <td>FT</td>\n",
       "      <td>Data Scientist</td>\n",
       "      <td>175000</td>\n",
       "      <td>USD</td>\n",
       "      <td>175000</td>\n",
       "      <td>CA</td>\n",
       "      <td>100</td>\n",
       "      <td>CA</td>\n",
       "      <td>M</td>\n",
       "      <td>3</td>\n",
       "    </tr>\n",
       "    <tr>\n",
       "      <th>4</th>\n",
       "      <td>2023</td>\n",
       "      <td>FT</td>\n",
       "      <td>Data Scientist</td>\n",
       "      <td>120000</td>\n",
       "      <td>USD</td>\n",
       "      <td>120000</td>\n",
       "      <td>CA</td>\n",
       "      <td>100</td>\n",
       "      <td>CA</td>\n",
       "      <td>M</td>\n",
       "      <td>3</td>\n",
       "    </tr>\n",
       "  </tbody>\n",
       "</table>\n",
       "</div>"
      ],
      "text/plain": [
       "   work_year employment_type                 job_title  salary  \\\n",
       "0       2023              FT  Principal Data Scientist   80000   \n",
       "1       2023              CT               ML Engineer   30000   \n",
       "2       2023              CT               ML Engineer   25500   \n",
       "3       2023              FT            Data Scientist  175000   \n",
       "4       2023              FT            Data Scientist  120000   \n",
       "\n",
       "  salary_currency  salary_in_usd employee_residence  remote_ratio  \\\n",
       "0             EUR          85847                 ES           100   \n",
       "1             USD          30000                 US           100   \n",
       "2             USD          25500                 US           100   \n",
       "3             USD         175000                 CA           100   \n",
       "4             USD         120000                 CA           100   \n",
       "\n",
       "  company_location company_size  experience_level_encoded  \n",
       "0               ES            L                         3  \n",
       "1               US            S                         2  \n",
       "2               US            S                         2  \n",
       "3               CA            M                         3  \n",
       "4               CA            M                         3  "
      ]
     },
     "execution_count": 152,
     "metadata": {},
     "output_type": "execute_result"
    }
   ],
   "source": [
    "from sklearn.preprocessing import LabelEncoder, OneHotEncoder\n",
    "\n",
    "#Label Encoding for 'experience_level' as it has order \n",
    "label_encoder = LabelEncoder()\n",
    "df['experience_level_encoded'] = label_encoder.fit_transform(df['experience_level'])  \n",
    "df =df.drop(['experience_level'],axis=1)\n",
    "df.head()"
   ]
  },
  {
   "cell_type": "code",
   "execution_count": 153,
   "id": "5444baee",
   "metadata": {},
   "outputs": [
    {
     "data": {
      "text/html": [
       "<div>\n",
       "<style scoped>\n",
       "    .dataframe tbody tr th:only-of-type {\n",
       "        vertical-align: middle;\n",
       "    }\n",
       "\n",
       "    .dataframe tbody tr th {\n",
       "        vertical-align: top;\n",
       "    }\n",
       "\n",
       "    .dataframe thead th {\n",
       "        text-align: right;\n",
       "    }\n",
       "</style>\n",
       "<table border=\"1\" class=\"dataframe\">\n",
       "  <thead>\n",
       "    <tr style=\"text-align: right;\">\n",
       "      <th></th>\n",
       "      <th>work_year</th>\n",
       "      <th>salary</th>\n",
       "      <th>salary_in_usd</th>\n",
       "      <th>remote_ratio</th>\n",
       "      <th>experience_level_encoded</th>\n",
       "      <th>employment_type_FL</th>\n",
       "      <th>employment_type_FT</th>\n",
       "      <th>employment_type_PT</th>\n",
       "      <th>job_title_AI Developer</th>\n",
       "      <th>job_title_AI Programmer</th>\n",
       "      <th>...</th>\n",
       "      <th>company_location_SG</th>\n",
       "      <th>company_location_SI</th>\n",
       "      <th>company_location_SK</th>\n",
       "      <th>company_location_TH</th>\n",
       "      <th>company_location_TR</th>\n",
       "      <th>company_location_UA</th>\n",
       "      <th>company_location_US</th>\n",
       "      <th>company_location_VN</th>\n",
       "      <th>company_size_M</th>\n",
       "      <th>company_size_S</th>\n",
       "    </tr>\n",
       "  </thead>\n",
       "  <tbody>\n",
       "    <tr>\n",
       "      <th>0</th>\n",
       "      <td>2023</td>\n",
       "      <td>80000</td>\n",
       "      <td>85847</td>\n",
       "      <td>100</td>\n",
       "      <td>3</td>\n",
       "      <td>0</td>\n",
       "      <td>1</td>\n",
       "      <td>0</td>\n",
       "      <td>0</td>\n",
       "      <td>0</td>\n",
       "      <td>...</td>\n",
       "      <td>0</td>\n",
       "      <td>0</td>\n",
       "      <td>0</td>\n",
       "      <td>0</td>\n",
       "      <td>0</td>\n",
       "      <td>0</td>\n",
       "      <td>0</td>\n",
       "      <td>0</td>\n",
       "      <td>0</td>\n",
       "      <td>0</td>\n",
       "    </tr>\n",
       "    <tr>\n",
       "      <th>1</th>\n",
       "      <td>2023</td>\n",
       "      <td>30000</td>\n",
       "      <td>30000</td>\n",
       "      <td>100</td>\n",
       "      <td>2</td>\n",
       "      <td>0</td>\n",
       "      <td>0</td>\n",
       "      <td>0</td>\n",
       "      <td>0</td>\n",
       "      <td>0</td>\n",
       "      <td>...</td>\n",
       "      <td>0</td>\n",
       "      <td>0</td>\n",
       "      <td>0</td>\n",
       "      <td>0</td>\n",
       "      <td>0</td>\n",
       "      <td>0</td>\n",
       "      <td>1</td>\n",
       "      <td>0</td>\n",
       "      <td>0</td>\n",
       "      <td>1</td>\n",
       "    </tr>\n",
       "    <tr>\n",
       "      <th>2</th>\n",
       "      <td>2023</td>\n",
       "      <td>25500</td>\n",
       "      <td>25500</td>\n",
       "      <td>100</td>\n",
       "      <td>2</td>\n",
       "      <td>0</td>\n",
       "      <td>0</td>\n",
       "      <td>0</td>\n",
       "      <td>0</td>\n",
       "      <td>0</td>\n",
       "      <td>...</td>\n",
       "      <td>0</td>\n",
       "      <td>0</td>\n",
       "      <td>0</td>\n",
       "      <td>0</td>\n",
       "      <td>0</td>\n",
       "      <td>0</td>\n",
       "      <td>1</td>\n",
       "      <td>0</td>\n",
       "      <td>0</td>\n",
       "      <td>1</td>\n",
       "    </tr>\n",
       "    <tr>\n",
       "      <th>3</th>\n",
       "      <td>2023</td>\n",
       "      <td>175000</td>\n",
       "      <td>175000</td>\n",
       "      <td>100</td>\n",
       "      <td>3</td>\n",
       "      <td>0</td>\n",
       "      <td>1</td>\n",
       "      <td>0</td>\n",
       "      <td>0</td>\n",
       "      <td>0</td>\n",
       "      <td>...</td>\n",
       "      <td>0</td>\n",
       "      <td>0</td>\n",
       "      <td>0</td>\n",
       "      <td>0</td>\n",
       "      <td>0</td>\n",
       "      <td>0</td>\n",
       "      <td>0</td>\n",
       "      <td>0</td>\n",
       "      <td>1</td>\n",
       "      <td>0</td>\n",
       "    </tr>\n",
       "    <tr>\n",
       "      <th>4</th>\n",
       "      <td>2023</td>\n",
       "      <td>120000</td>\n",
       "      <td>120000</td>\n",
       "      <td>100</td>\n",
       "      <td>3</td>\n",
       "      <td>0</td>\n",
       "      <td>1</td>\n",
       "      <td>0</td>\n",
       "      <td>0</td>\n",
       "      <td>0</td>\n",
       "      <td>...</td>\n",
       "      <td>0</td>\n",
       "      <td>0</td>\n",
       "      <td>0</td>\n",
       "      <td>0</td>\n",
       "      <td>0</td>\n",
       "      <td>0</td>\n",
       "      <td>0</td>\n",
       "      <td>0</td>\n",
       "      <td>1</td>\n",
       "      <td>0</td>\n",
       "    </tr>\n",
       "  </tbody>\n",
       "</table>\n",
       "<p>5 rows × 266 columns</p>\n",
       "</div>"
      ],
      "text/plain": [
       "   work_year  salary  salary_in_usd  remote_ratio  experience_level_encoded  \\\n",
       "0       2023   80000          85847           100                         3   \n",
       "1       2023   30000          30000           100                         2   \n",
       "2       2023   25500          25500           100                         2   \n",
       "3       2023  175000         175000           100                         3   \n",
       "4       2023  120000         120000           100                         3   \n",
       "\n",
       "   employment_type_FL  employment_type_FT  employment_type_PT  \\\n",
       "0                   0                   1                   0   \n",
       "1                   0                   0                   0   \n",
       "2                   0                   0                   0   \n",
       "3                   0                   1                   0   \n",
       "4                   0                   1                   0   \n",
       "\n",
       "   job_title_AI Developer  job_title_AI Programmer  ...  company_location_SG  \\\n",
       "0                       0                        0  ...                    0   \n",
       "1                       0                        0  ...                    0   \n",
       "2                       0                        0  ...                    0   \n",
       "3                       0                        0  ...                    0   \n",
       "4                       0                        0  ...                    0   \n",
       "\n",
       "   company_location_SI  company_location_SK  company_location_TH  \\\n",
       "0                    0                    0                    0   \n",
       "1                    0                    0                    0   \n",
       "2                    0                    0                    0   \n",
       "3                    0                    0                    0   \n",
       "4                    0                    0                    0   \n",
       "\n",
       "   company_location_TR  company_location_UA  company_location_US  \\\n",
       "0                    0                    0                    0   \n",
       "1                    0                    0                    1   \n",
       "2                    0                    0                    1   \n",
       "3                    0                    0                    0   \n",
       "4                    0                    0                    0   \n",
       "\n",
       "   company_location_VN  company_size_M  company_size_S  \n",
       "0                    0               0               0  \n",
       "1                    0               0               1  \n",
       "2                    0               0               1  \n",
       "3                    0               1               0  \n",
       "4                    0               1               0  \n",
       "\n",
       "[5 rows x 266 columns]"
      ]
     },
     "execution_count": 153,
     "metadata": {},
     "output_type": "execute_result"
    }
   ],
   "source": [
    "# One-Hot Encoding for 'employment_type', 'job_title', 'salary_currency', 'employee_residence', 'company_location', 'company_size' as it doesnot hold any order \n",
    "one_hot_columns = ['employment_type', 'job_title', 'salary_currency', 'employee_residence', 'company_location', 'company_size']\n",
    "df = pd.get_dummies(df, columns=one_hot_columns,drop_first=True)\n",
    "\n",
    "# Display the first few rows of the updated dataset\n",
    "df.head()"
   ]
  },
  {
   "cell_type": "code",
   "execution_count": null,
   "id": "1001ed04",
   "metadata": {},
   "outputs": [],
   "source": []
  },
  {
   "cell_type": "code",
   "execution_count": 154,
   "id": "c91b889d",
   "metadata": {},
   "outputs": [],
   "source": [
    "#remote_ratio: This column represents the percentage of remote work, with values ranging from 0 to 100. \n",
    "#Using MinMaxScaler for this feature ensures that the scaled values will also be between 0 and 1, \n",
    "#maintaining the interpretability of the percentage.\n",
    "#salary: Salaries can vary widely and may have a more complex distribution.StandardScaler is used for\n",
    "#this feature to transform the data such that its distribution will have a mean value 0 and standard deviation of 1."
   ]
  },
  {
   "cell_type": "code",
   "execution_count": 155,
   "id": "a127117d",
   "metadata": {},
   "outputs": [
    {
     "name": "stdout",
     "output_type": "stream",
     "text": [
      "Training set: (1788, 265) (1788,)\n",
      "Testing set: (767, 265) (767,)\n"
     ]
    }
   ],
   "source": [
    "from sklearn.model_selection import train_test_split\n",
    "\n",
    "# Define the target variable (y) and input features (X)\n",
    "y = df['salary_in_usd']\n",
    "X = df.drop(['salary_in_usd'], axis=1)\n",
    "\n",
    "# Split the dataset into training and testing sets\n",
    "X_train, X_test, y_train, y_test = train_test_split(X, y, test_size=0.3, random_state=42)\n",
    "\n",
    "# Display the shapes of the training and testing sets\n",
    "print(\"Training set:\", X_train.shape, y_train.shape)\n",
    "print(\"Testing set:\", X_test.shape, y_test.shape)\n"
   ]
  },
  {
   "cell_type": "code",
   "execution_count": 156,
   "id": "204eb5d0",
   "metadata": {},
   "outputs": [],
   "source": [
    "from sklearn.model_selection import train_test_split\n",
    "from sklearn.neighbors import KNeighborsRegressor\n",
    "from sklearn.metrics import mean_absolute_percentage_error,mean_squared_error, r2_score\n",
    "import seaborn as sns\n",
    "import matplotlib.pyplot as plt"
   ]
  },
  {
   "cell_type": "code",
   "execution_count": 157,
   "id": "5bb4e454",
   "metadata": {},
   "outputs": [
    {
     "data": {
      "text/plain": [
       "((2555, 265), (2555,))"
      ]
     },
     "execution_count": 157,
     "metadata": {},
     "output_type": "execute_result"
    }
   ],
   "source": [
    "X.shape, y.shape"
   ]
  },
  {
   "cell_type": "code",
   "execution_count": 158,
   "id": "29bc44b5",
   "metadata": {},
   "outputs": [],
   "source": [
    "del range"
   ]
  },
  {
   "cell_type": "code",
   "execution_count": 159,
   "id": "5ac73d5b",
   "metadata": {
    "scrolled": true
   },
   "outputs": [
    {
     "data": {
      "text/html": [
       "<div>\n",
       "<style scoped>\n",
       "    .dataframe tbody tr th:only-of-type {\n",
       "        vertical-align: middle;\n",
       "    }\n",
       "\n",
       "    .dataframe tbody tr th {\n",
       "        vertical-align: top;\n",
       "    }\n",
       "\n",
       "    .dataframe thead th {\n",
       "        text-align: right;\n",
       "    }\n",
       "</style>\n",
       "<table border=\"1\" class=\"dataframe\">\n",
       "  <thead>\n",
       "    <tr style=\"text-align: right;\">\n",
       "      <th></th>\n",
       "      <th>k</th>\n",
       "      <th>MSE</th>\n",
       "      <th>MAE</th>\n",
       "    </tr>\n",
       "  </thead>\n",
       "  <tbody>\n",
       "    <tr>\n",
       "      <th>0</th>\n",
       "      <td>1</td>\n",
       "      <td>1.605062e+08</td>\n",
       "      <td>2797.722295</td>\n",
       "    </tr>\n",
       "    <tr>\n",
       "      <th>1</th>\n",
       "      <td>2</td>\n",
       "      <td>1.774631e+08</td>\n",
       "      <td>3152.262712</td>\n",
       "    </tr>\n",
       "    <tr>\n",
       "      <th>2</th>\n",
       "      <td>3</td>\n",
       "      <td>1.586016e+08</td>\n",
       "      <td>3246.843112</td>\n",
       "    </tr>\n",
       "    <tr>\n",
       "      <th>3</th>\n",
       "      <td>4</td>\n",
       "      <td>1.291109e+08</td>\n",
       "      <td>3091.219361</td>\n",
       "    </tr>\n",
       "    <tr>\n",
       "      <th>4</th>\n",
       "      <td>5</td>\n",
       "      <td>1.216151e+08</td>\n",
       "      <td>3178.561669</td>\n",
       "    </tr>\n",
       "    <tr>\n",
       "      <th>5</th>\n",
       "      <td>6</td>\n",
       "      <td>1.208241e+08</td>\n",
       "      <td>3346.354411</td>\n",
       "    </tr>\n",
       "    <tr>\n",
       "      <th>6</th>\n",
       "      <td>7</td>\n",
       "      <td>1.182422e+08</td>\n",
       "      <td>3380.287391</td>\n",
       "    </tr>\n",
       "    <tr>\n",
       "      <th>7</th>\n",
       "      <td>8</td>\n",
       "      <td>1.175147e+08</td>\n",
       "      <td>3417.072197</td>\n",
       "    </tr>\n",
       "    <tr>\n",
       "      <th>8</th>\n",
       "      <td>9</td>\n",
       "      <td>1.164001e+08</td>\n",
       "      <td>3530.624511</td>\n",
       "    </tr>\n",
       "    <tr>\n",
       "      <th>9</th>\n",
       "      <td>10</td>\n",
       "      <td>1.191491e+08</td>\n",
       "      <td>3605.357366</td>\n",
       "    </tr>\n",
       "  </tbody>\n",
       "</table>\n",
       "</div>"
      ],
      "text/plain": [
       "    k           MSE          MAE\n",
       "0   1  1.605062e+08  2797.722295\n",
       "1   2  1.774631e+08  3152.262712\n",
       "2   3  1.586016e+08  3246.843112\n",
       "3   4  1.291109e+08  3091.219361\n",
       "4   5  1.216151e+08  3178.561669\n",
       "5   6  1.208241e+08  3346.354411\n",
       "6   7  1.182422e+08  3380.287391\n",
       "7   8  1.175147e+08  3417.072197\n",
       "8   9  1.164001e+08  3530.624511\n",
       "9  10  1.191491e+08  3605.357366"
      ]
     },
     "execution_count": 159,
     "metadata": {},
     "output_type": "execute_result"
    }
   ],
   "source": [
    "from sklearn.neighbors import KNeighborsRegressor\n",
    "from sklearn.metrics import mean_squared_error, mean_absolute_error\n",
    "import pandas as pd\n",
    "\n",
    "# Initialize a list to store evaluation metrics\n",
    "evaluation_metrics = []\n",
    "\n",
    "# Loop over different values of k\n",
    "for k in range(1, 11):  # Change the range as per your requirement\n",
    "    # Initialize the KNN regressor with the current value of k\n",
    "    knn_regressor = KNeighborsRegressor(n_neighbors=k)\n",
    "    \n",
    "    # Fit the model on the training data\n",
    "    knn_regressor.fit(X_train, y_train)\n",
    "    \n",
    "    # Make predictions on the testing data\n",
    "    y_pred = knn_regressor.predict(X_test)\n",
    "    \n",
    "    # Calculate evaluation metrics\n",
    "    mse = mean_squared_error(y_test, y_pred)\n",
    "    mae = mean_absolute_error(y_test, y_pred)\n",
    "    \n",
    "    # Append the metrics to the list\n",
    "    evaluation_metrics.append({\n",
    "        'k': k,\n",
    "        'MSE': mse,\n",
    "        'MAE': mae,\n",
    "    })\n",
    "\n",
    "# Convert the list of metrics to a dataframe\n",
    "evaluation_metrics_df = pd.DataFrame(evaluation_metrics)\n",
    "\n",
    "# Display the dataframe\n",
    "evaluation_metrics_df"
   ]
  },
  {
   "cell_type": "code",
   "execution_count": null,
   "id": "4711b674",
   "metadata": {},
   "outputs": [],
   "source": []
  },
  {
   "cell_type": "code",
   "execution_count": 160,
   "id": "a6fe164f",
   "metadata": {},
   "outputs": [
    {
     "data": {
      "image/png": "[encoded data removed]",
      "text/plain": [
       "<Figure size 720x432 with 1 Axes>"
      ]
     },
     "metadata": {
      "needs_background": "light"
     },
     "output_type": "display_data"
    }
   ],
   "source": [
    "#Extract MSE values from the evaluation metrics dataframe\n",
    "mse_values = evaluation_metrics_df['MSE']\n",
    "\n",
    "# Plot the MSE values for different values of k\n",
    "plt.figure(figsize=(10, 6))\n",
    "plt.plot(range(1, 11), mse_values, marker='o', linestyle='-', color='b')\n",
    "plt.xlabel('k (Number of Neighbors)')\n",
    "plt.ylabel('Mean Squared Error (MSE)')\n",
    "plt.title('MSE for Different Values of k in KNN Regression')\n",
    "plt.xticks(range(1, 11))  # Adjust this according to the range of k values you used\n",
    "plt.grid(True)\n",
    "plt.show()"
   ]
  },
  {
   "cell_type": "markdown",
   "id": "8b84e836",
   "metadata": {},
   "source": [
    "choosing the optimal value of k as 8 as its the second lowest value which provides the minimum error inn term s of mse considering the generalization of model \n"
   ]
  },
  {
   "cell_type": "code",
   "execution_count": 161,
   "id": "09841d97",
   "metadata": {},
   "outputs": [
    {
     "name": "stdout",
     "output_type": "stream",
     "text": [
      "Best KNN Regressor (k=8) Evaluation Metrics:\n",
      "Mean Squared Error (MSE): 117514675.13512467\n",
      "Mean Absolute Error (MAE): 3417.072196870926\n"
     ]
    }
   ],
   "source": [
    "# Initialize the KNN regressor with k=3\n",
    "knn_regressor_best = KNeighborsRegressor(n_neighbors=8)\n",
    "\n",
    "# Fit the model on the training data\n",
    "knn_regressor_best.fit(X_train, y_train)\n",
    "\n",
    "# Make predictions on the testing data\n",
    "y_pred_best = knn_regressor_best.predict(X_test)\n",
    "\n",
    "# Calculate evaluation metrics for the best model\n",
    "mse_best = mean_squared_error(y_test, y_pred_best)\n",
    "mae_best = mean_absolute_error(y_test, y_pred_best)\n",
    "\n",
    "# Print the evaluation metrics for the best model\n",
    "print(f\"Best KNN Regressor (k=8) Evaluation Metrics:\")\n",
    "print(f\"Mean Squared Error (MSE): {mse_best}\")\n",
    "print(f\"Mean Absolute Error (MAE): {mae_best}\")\n"
   ]
  },
  {
   "cell_type": "code",
   "execution_count": null,
   "id": "e49ecb08",
   "metadata": {},
   "outputs": [],
   "source": []
  },
  {
   "cell_type": "code",
   "execution_count": null,
   "id": "c5350749",
   "metadata": {},
   "outputs": [],
   "source": []
  }
 ],
 "metadata": {
  "kernelspec": {
   "display_name": "Python 3 (ipykernel)",
   "language": "python",
   "name": "python3"
  },
  "language_info": {
   "codemirror_mode": {
    "name": "ipython",
    "version": 3
   },
   "file_extension": ".py",
   "mimetype": "text/x-python",
   "name": "python",
   "nbconvert_exporter": "python",
   "pygments_lexer": "ipython3",
   "version": "3.11.7"
  }
 },
 "nbformat": 4,
 "nbformat_minor": 5
}
